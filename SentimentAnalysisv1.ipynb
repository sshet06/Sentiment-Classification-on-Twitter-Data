{
 "cells": [
  {
   "cell_type": "code",
   "execution_count": 2,
   "metadata": {},
   "outputs": [],
   "source": [
    "import pandas as pd\n",
    "import re ,nltk\n",
    "from sklearn.utils import shuffle\n",
    "from sklearn import metrics\n",
    "from sklearn.naive_bayes import MultinomialNB\n",
    "from sklearn.feature_extraction.text import CountVectorizer,TfidfTransformer\n",
    "from sklearn.model_selection import GridSearchCV,cross_val_score,cross_validate\n",
    "from sklearn.pipeline import Pipeline\n",
    "from sklearn.svm import LinearSVC\n",
    "from sklearn.linear_model import LogisticRegression\n",
    "from wordcloud import WordCloud, STOPWORDS, ImageColorGenerator\n",
    "import matplotlib.pyplot as plt\n",
    "import seaborn as sns\n",
    "from sklearn.tree import DecisionTreeClassifier\n",
    "from sklearn.metrics import f1_score,precision_score,recall_score\n",
    "from sklearn.metrics import make_scorer"
   ]
  },
  {
   "cell_type": "code",
   "execution_count": 3,
   "metadata": {},
   "outputs": [],
   "source": [
    "def Visualize(tweet,Name,Class):\n",
    "    Plot=sns.distplot(Class,kde=False,bins=3,rug=False,color=\"#07438C\")\n",
    "    Plot.set(xlabel=\"Negative          Neutral            Positive\",\n",
    "             ylabel=\"No of tweets\",\n",
    "             title=\"tweets of {} \".format(Name)\n",
    "    )\n",
    "    Plot.plot()\n",
    "    \n",
    "    StopWords=set(STOPWORDS)\n",
    "    all_words = ' '.join([text for text in Xtrain_Obama])\n",
    "    wordcloud = WordCloud(width=800, height=500, random_state=21, max_font_size=110).generate(all_words)\n",
    "\n",
    "    plt.figure(figsize=(12, 10))\n",
    "    plt.axis('off')\n",
    "    plt.imshow(wordcloud, interpolation=\"bilinear\")\n",
    "    plt.show()"
   ]
  },
  {
   "cell_type": "code",
   "execution_count": 4,
   "metadata": {},
   "outputs": [],
   "source": [
    "def Clean(Tweets):\n",
    "    from nltk.tokenize import WordPunctTokenizer\n",
    "    pattern=re.compile(r'(https|http):?//[a-zA-Z0-9./]+|<.*?>|@\\w+|RT @\\w+')\n",
    "    Stopwords={sw for sw in nltk.corpus.stopwords.words('english')}\n",
    "    processed=[]\n",
    "    \n",
    "    for tweet in Tweets:\n",
    "        # remove html tags,URL links,twitter handles\n",
    "        tweet=pattern.sub('',tweet)\n",
    "        \n",
    "        \n",
    "        #remove all special characters (except #)\n",
    "        tweet=re.sub(r'[^a-zA-Z0-9# ]',\" \",tweet).lower()\n",
    "        \n",
    "        \n",
    "        # tokenize to remove extra space and remove stopwords\n",
    "        tweet=tweet.split()\n",
    "        tweet=' '.join(([w for w in tweet if not w in Stopwords]))\n",
    "        \n",
    "        #Convert each word to its root word\n",
    "        Root=nltk.stem.PorterStemmer()\n",
    "        Tweet_root=[Root.stem(w) for w in tweet.split()]\n",
    "        tweet=tweet=str(' '.join(Tweet_root))\n",
    "        \n",
    "        processed.append(tweet)\n",
    "        \n",
    "        \n",
    "    return processed"
   ]
  },
  {
   "cell_type": "code",
   "execution_count": 11,
   "metadata": {},
   "outputs": [],
   "source": [
    "def Parameter_Tuning(parameters,model,X,y):\n",
    "    \n",
    "    gs_clf=GridSearchCV(model,parameters,cv=10,iid=False,n_jobs=-1)\n",
    "    GS_clf=gs_clf.fit(X,y)\n",
    "    y_pred=GS_clf.predict(X)\n",
    "    print(\"Best Score for the model--->{0}\".format(GS_clf.best_score_))\n",
    "    print(\"Best Parameters are...\")\n",
    "    print(GS_clf.best_params_)\n",
    "    \n",
    "#     print(scores.keys()) \n",
    "#     ['test_Precision', 'train_F1_score', 'fit_time', 'train_Precision', 'test_Recall', 'score_time', 'train_Recall', 'test_F1_score']\n",
    "    metric=['test_Precision','test_Recall','test_F1_score']\n",
    "\n",
    "    for m in metric:\n",
    "        \n",
    "        #positve\n",
    "        scoring={\n",
    "            'F1_score':make_scorer(f1_score,labels=[1],average=None),\n",
    "            'Precision':make_scorer(precision_score,labels=[1],average=None),\n",
    "            'Recall':make_scorer(recall_score,labels=[1],average=None)\n",
    "        }\n",
    "        \n",
    "        scores=cross_validate(GS_clf.best_estimator_,X,y,cv=10,scoring=scoring)\n",
    "        print(\"{} for positive class:{}\".format(m,scores[m].mean()))\n",
    "        \n",
    "        #negative\n",
    "        scoring={\n",
    "            'F1_score':make_scorer(f1_score,labels=[-1],average=None),\n",
    "            'Precision':make_scorer(precision_score,labels=[-1],average=None),\n",
    "            'Recall':make_scorer(recall_score,labels=[-1],average=None)\n",
    "        }\n",
    "\n",
    "        scores=cross_validate(GS_clf.best_estimator_,X,y,cv=10,scoring=scoring)\n",
    "        print(\"{} for negative class:{}\".format(m,scores[m].mean()))\n",
    "    \n",
    "        #neutral\n",
    "        scoring={\n",
    "            'F1_score':make_scorer(f1_score,labels=[0],average=None),\n",
    "            'Precision':make_scorer(precision_score,labels=[0],average=None),\n",
    "            'Recall':make_scorer(recall_score,labels=[0],average=None)\n",
    "        }\n",
    "\n",
    "        scores=cross_validate(GS_clf.best_estimator_,X,y,cv=10,scoring=scoring)\n",
    "        print(\"{} for neutral class:{}\".format(m,scores[m].mean()))\n",
    "    \n",
    "    \n",
    "    \n",
    "    \n",
    "    "
   ]
  },
  {
   "cell_type": "code",
   "execution_count": 8,
   "metadata": {},
   "outputs": [],
   "source": [
    "df_Obama_tweets=df_Obama_tweets=pd.read_excel('trainingObamaRomneytweets.xlsx',sheet_name='Obama')\n",
    "df_Romney_tweets=pd.read_excel('trainingObamaRomneytweets.xlsx',sheet_name='Romney')\n",
    "\n",
    "# retains first 4 columns\n",
    "df_Obama_tweets=df_Obama_tweets[1:].dropna(axis=1,how='all')\n",
    "df_Romney_tweets=df_Romney_tweets[1:].dropna(axis=1,how='all')\n",
    "\n",
    "\n",
    "\n",
    "#rename the colums\n",
    "df_Obama_tweets.columns=['Date','Time','Tweets','Class']\n",
    "df_Romney_tweets.columns=['Date','Time','Tweets','Class']\n",
    "df_Obama_tweets.index=range(1,len(df_Obama_tweets)+1)\n",
    "df_Romney_tweets.index=range(1,len(df_Romney_tweets)+1)\n",
    "\n",
    "\n",
    "#drop mixed and !!! class for now(we may consider it later)\n",
    "df_Romney_tweets=df_Romney_tweets[(df_Romney_tweets['Class'].isin((0,1,-1)))]\n",
    "df_Obama_tweets=df_Obama_tweets[(df_Obama_tweets['Class'].isin((0,1,-1)))]\n",
    "\n",
    "#drop empty tweet rows\n",
    "df_Obama_tweets.dropna(subset=['Tweets'],inplace=True)\n",
    "df_Romney_tweets.dropna(subset=['Tweets'],inplace=True)\n",
    "\n",
    "#shuffle the dataframe to avoid bias\n",
    "df_Obama_tweets=shuffle(df_Obama_tweets).reset_index(drop=True)\n",
    "df_Romney_tweets=shuffle(df_Romney_tweets).reset_index(drop=True)\n",
    "\n",
    "#raw tweet and class\n",
    "Obama_tweet=df_Obama_tweets['Tweets'].tolist()\n",
    "Obama_class=df_Obama_tweets['Class'].tolist()\n",
    "\n",
    "Romney_tweet=df_Romney_tweets['Tweets'].tolist()\n",
    "Romney_class=df_Romney_tweets['Class'].tolist()"
   ]
  },
  {
   "cell_type": "code",
   "execution_count": 9,
   "metadata": {},
   "outputs": [],
   "source": [
    "# preprocess the tweets\n",
    "Xtrain_Obama=Clean(Obama_tweet)\n",
    "Xtrain_Romney=Clean(Romney_tweet)"
   ]
  },
  {
   "cell_type": "code",
   "execution_count": 14,
   "metadata": {
    "scrolled": true
   },
   "outputs": [
    {
     "name": "stdout",
     "output_type": "stream",
     "text": [
      "Best Score for the model--->0.5899286488761797\n",
      "Best Parameters are...\n",
      "{'count_vect__max_df': 0.5, 'vect_tfidf__use_idf': False, 'count_vect__ngram_range': (1, 2), 'clf__alpha': 0.01}\n",
      "test_Precision for positive class:0.5553101444351813\n",
      "test_Precision for negative class:0.6366889844899911\n",
      "test_Precision for neutral class:0.47925277522152304\n",
      "test_Recall for positive class:0.4064814814814815\n",
      "test_Recall for negative class:0.792238396372748\n",
      "test_Recall for neutral class:0.3589285714285714\n",
      "test_F1_score for positive class:0.46847062348583\n",
      "test_F1_score for negative class:0.7057869717656254\n",
      "test_F1_score for neutral class:0.40981926983047706\n"
     ]
    }
   ],
   "source": [
    "# Multinomail NB...\n",
    "\n",
    "#Vectorize the tweet and initialize the classifiers\n",
    "tweet_clf=Pipeline([\n",
    "    ('count_vect',CountVectorizer(max_df=.7)),\n",
    "    ('vect_tfidf',TfidfTransformer()),\n",
    "    ('clf',MultinomialNB()),\n",
    "])\n",
    "\n",
    "#tuning the parameters\n",
    "parameters={\n",
    "    'count_vect__ngram_range':[(1,1),(1,2)],\n",
    "    'count_vect__max_df':(.5,.6,.8,.9),\n",
    "    'vect_tfidf__use_idf':(True,False),\n",
    "    'clf__alpha':(1e-2,1e-3)\n",
    "}\n",
    "\n",
    "Parameter_Tuning(parameters,tweet_clf,Xtrain_Romney,Romney_class)"
   ]
  },
  {
   "cell_type": "code",
   "execution_count": null,
   "metadata": {},
   "outputs": [],
   "source": [
    "#Linear SVM\n",
    "tweet_clf=Pipeline([\n",
    "    ('count_vect',CountVectorizer(max_df=.7)),\n",
    "    ('vect_tfidf',TfidfTransformer()),\n",
    "    ('clf',LinearSVC(loss='hinge', penalty='l2', random_state=42,\n",
    "                          max_iter=5)),\n",
    "])\n",
    "\n",
    "\n",
    "#tuning the parameters\n",
    "parameters={\n",
    "    'count_vect__ngram_range':[(1,1),(1,2)],\n",
    "    'count_vect__max_df':(.5,.6,.8,.9),\n",
    "    'vect_tfidf__use_idf':(True,False),\n",
    "    'clf__C':(1e-4, 1e-3, 1e-2, 1e-1, 1e0, 1e1, 1e2, 1e3)\n",
    "}\n",
    "\n",
    "Parameter_Tuning(parameters,tweet_clf,Xtrain_Obama,Obama_class)"
   ]
  },
  {
   "cell_type": "code",
   "execution_count": 16,
   "metadata": {},
   "outputs": [
    {
     "name": "stderr",
     "output_type": "stream",
     "text": [
      "/home/shet/.local/lib/python3.5/site-packages/sklearn/linear_model/logistic.py:433: FutureWarning: Default solver will be changed to 'lbfgs' in 0.22. Specify a solver to silence this warning.\n",
      "  FutureWarning)\n",
      "/home/shet/.local/lib/python3.5/site-packages/sklearn/linear_model/logistic.py:460: FutureWarning: Default multi_class will be changed to 'auto' in 0.22. Specify the multi_class option to silence this warning.\n",
      "  \"this warning.\", FutureWarning)\n"
     ]
    },
    {
     "name": "stdout",
     "output_type": "stream",
     "text": [
      "Best Score for the model--->0.599139413076711\n",
      "Best Parameters are...\n",
      "{'count_vect__max_df': 0.5, 'clf__penalty': 'l2', 'vect_tfidf__use_idf': True, 'count_vect__ngram_range': (1, 2), 'clf__C': 10.0}\n"
     ]
    },
    {
     "name": "stderr",
     "output_type": "stream",
     "text": [
      "/home/shet/.local/lib/python3.5/site-packages/sklearn/linear_model/logistic.py:433: FutureWarning: Default solver will be changed to 'lbfgs' in 0.22. Specify a solver to silence this warning.\n",
      "  FutureWarning)\n",
      "/home/shet/.local/lib/python3.5/site-packages/sklearn/linear_model/logistic.py:460: FutureWarning: Default multi_class will be changed to 'auto' in 0.22. Specify the multi_class option to silence this warning.\n",
      "  \"this warning.\", FutureWarning)\n"
     ]
    },
    {
     "name": "stdout",
     "output_type": "stream",
     "text": [
      "test_Precision for positive class:0.5710036622287837\n"
     ]
    },
    {
     "name": "stderr",
     "output_type": "stream",
     "text": [
      "/home/shet/.local/lib/python3.5/site-packages/sklearn/linear_model/logistic.py:433: FutureWarning: Default solver will be changed to 'lbfgs' in 0.22. Specify a solver to silence this warning.\n",
      "  FutureWarning)\n",
      "/home/shet/.local/lib/python3.5/site-packages/sklearn/linear_model/logistic.py:460: FutureWarning: Default multi_class will be changed to 'auto' in 0.22. Specify the multi_class option to silence this warning.\n",
      "  \"this warning.\", FutureWarning)\n"
     ]
    },
    {
     "name": "stdout",
     "output_type": "stream",
     "text": [
      "test_Precision for negative class:0.64366000093672\n"
     ]
    },
    {
     "name": "stderr",
     "output_type": "stream",
     "text": [
      "/home/shet/.local/lib/python3.5/site-packages/sklearn/linear_model/logistic.py:433: FutureWarning: Default solver will be changed to 'lbfgs' in 0.22. Specify a solver to silence this warning.\n",
      "  FutureWarning)\n",
      "/home/shet/.local/lib/python3.5/site-packages/sklearn/linear_model/logistic.py:460: FutureWarning: Default multi_class will be changed to 'auto' in 0.22. Specify the multi_class option to silence this warning.\n",
      "  \"this warning.\", FutureWarning)\n"
     ]
    },
    {
     "name": "stdout",
     "output_type": "stream",
     "text": [
      "test_Precision for neutral class:0.48869631894077126\n"
     ]
    },
    {
     "name": "stderr",
     "output_type": "stream",
     "text": [
      "/home/shet/.local/lib/python3.5/site-packages/sklearn/linear_model/logistic.py:433: FutureWarning: Default solver will be changed to 'lbfgs' in 0.22. Specify a solver to silence this warning.\n",
      "  FutureWarning)\n",
      "/home/shet/.local/lib/python3.5/site-packages/sklearn/linear_model/logistic.py:460: FutureWarning: Default multi_class will be changed to 'auto' in 0.22. Specify the multi_class option to silence this warning.\n",
      "  \"this warning.\", FutureWarning)\n"
     ]
    },
    {
     "name": "stdout",
     "output_type": "stream",
     "text": [
      "test_Recall for positive class:0.4185444790584977\n"
     ]
    },
    {
     "name": "stderr",
     "output_type": "stream",
     "text": [
      "/home/shet/.local/lib/python3.5/site-packages/sklearn/linear_model/logistic.py:433: FutureWarning: Default solver will be changed to 'lbfgs' in 0.22. Specify a solver to silence this warning.\n",
      "  FutureWarning)\n",
      "/home/shet/.local/lib/python3.5/site-packages/sklearn/linear_model/logistic.py:460: FutureWarning: Default multi_class will be changed to 'auto' in 0.22. Specify the multi_class option to silence this warning.\n",
      "  \"this warning.\", FutureWarning)\n"
     ]
    },
    {
     "name": "stdout",
     "output_type": "stream",
     "text": [
      "test_Recall for negative class:0.8019353299128982\n"
     ]
    },
    {
     "name": "stderr",
     "output_type": "stream",
     "text": [
      "/home/shet/.local/lib/python3.5/site-packages/sklearn/linear_model/logistic.py:433: FutureWarning: Default solver will be changed to 'lbfgs' in 0.22. Specify a solver to silence this warning.\n",
      "  FutureWarning)\n",
      "/home/shet/.local/lib/python3.5/site-packages/sklearn/linear_model/logistic.py:460: FutureWarning: Default multi_class will be changed to 'auto' in 0.22. Specify the multi_class option to silence this warning.\n",
      "  \"this warning.\", FutureWarning)\n"
     ]
    },
    {
     "name": "stdout",
     "output_type": "stream",
     "text": [
      "test_Recall for neutral class:0.3654761904761905\n"
     ]
    },
    {
     "name": "stderr",
     "output_type": "stream",
     "text": [
      "/home/shet/.local/lib/python3.5/site-packages/sklearn/linear_model/logistic.py:433: FutureWarning: Default solver will be changed to 'lbfgs' in 0.22. Specify a solver to silence this warning.\n",
      "  FutureWarning)\n",
      "/home/shet/.local/lib/python3.5/site-packages/sklearn/linear_model/logistic.py:460: FutureWarning: Default multi_class will be changed to 'auto' in 0.22. Specify the multi_class option to silence this warning.\n",
      "  \"this warning.\", FutureWarning)\n"
     ]
    },
    {
     "name": "stdout",
     "output_type": "stream",
     "text": [
      "test_F1_score for positive class:0.48226280319500414\n"
     ]
    },
    {
     "name": "stderr",
     "output_type": "stream",
     "text": [
      "/home/shet/.local/lib/python3.5/site-packages/sklearn/linear_model/logistic.py:433: FutureWarning: Default solver will be changed to 'lbfgs' in 0.22. Specify a solver to silence this warning.\n",
      "  FutureWarning)\n",
      "/home/shet/.local/lib/python3.5/site-packages/sklearn/linear_model/logistic.py:460: FutureWarning: Default multi_class will be changed to 'auto' in 0.22. Specify the multi_class option to silence this warning.\n",
      "  \"this warning.\", FutureWarning)\n"
     ]
    },
    {
     "name": "stdout",
     "output_type": "stream",
     "text": [
      "test_F1_score for negative class:0.7138757459205428\n"
     ]
    },
    {
     "name": "stderr",
     "output_type": "stream",
     "text": [
      "/home/shet/.local/lib/python3.5/site-packages/sklearn/linear_model/logistic.py:433: FutureWarning: Default solver will be changed to 'lbfgs' in 0.22. Specify a solver to silence this warning.\n",
      "  FutureWarning)\n",
      "/home/shet/.local/lib/python3.5/site-packages/sklearn/linear_model/logistic.py:460: FutureWarning: Default multi_class will be changed to 'auto' in 0.22. Specify the multi_class option to silence this warning.\n",
      "  \"this warning.\", FutureWarning)\n"
     ]
    },
    {
     "name": "stdout",
     "output_type": "stream",
     "text": [
      "test_F1_score for neutral class:0.4175850106325821\n"
     ]
    }
   ],
   "source": [
    "#Logistic Regression\n",
    "tweet_clf=Pipeline([\n",
    "    ('count_vect',CountVectorizer(max_df=.7)),\n",
    "    ('vect_tfidf',TfidfTransformer()),\n",
    "    ('clf',LogisticRegression(random_state=0)),\n",
    "])\n",
    "\n",
    "\n",
    "#tuning the parameters\n",
    "parameters={\n",
    "    'count_vect__ngram_range':[(1,1),(1,2)],\n",
    "    'count_vect__max_df':(.5,.6,.8,.9),\n",
    "    'vect_tfidf__use_idf':(True,False),\n",
    "    'clf__C':(1e-4, 1e-3, 1e-2, 1e-1, 1e0, 1e1, 1e2, 1e3),\n",
    "    'clf__penalty': ['l2']\n",
    "}\n",
    "\n",
    "Parameter_Tuning(parameters,tweet_clf,Xtrain_Romney,Romney_class)"
   ]
  },
  {
   "cell_type": "code",
   "execution_count": 382,
   "metadata": {},
   "outputs": [],
   "source": [
    "def hashtag(tweets):\n",
    "    hashtag=[]\n",
    "    for tweet in tweets:\n",
    "        ht=re.findall(r'#(\\w+)',tweet)\n",
    "        if ht: hashtag.append(ht)\n",
    "    return hashtag\n",
    "\n",
    "def plot(HashTag):\n",
    "    a = nltk.FreqDist(HashTag)\n",
    "    d = pd.DataFrame({'Hashtag': list(a.keys()),\n",
    "                      'Count': list(a.values())})\n",
    "    # selecting top 10 most frequent hashtags     \n",
    "    d = d.nlargest(columns=\"Count\", n = 10) \n",
    "    plt.figure(figsize=(16,5))\n",
    "    ax = sns.barplot(data=d, x= \"Hashtag\", y = \"Count\")\n",
    "    ax.set(ylabel = 'Count')\n",
    "    plt.show()\n",
    "    "
   ]
  },
  {
   "cell_type": "code",
   "execution_count": 384,
   "metadata": {},
   "outputs": [
    {
     "data": {
      "image/png": "[encoded data removed]",
      "text/plain": [
       "<Figure size 1152x360 with 1 Axes>"
      ]
     },
     "metadata": {
      "needs_background": "light"
     },
     "output_type": "display_data"
    },
    {
     "data": {
      "image/png": "[encoded data removed]",
      "text/plain": [
       "<Figure size 1152x360 with 1 Axes>"
      ]
     },
     "metadata": {
      "needs_background": "light"
     },
     "output_type": "display_data"
    }
   ],
   "source": [
    "#Analysing Hashtags\n",
    "\n",
    "#Positive tweets\n",
    "positive_Romney=df_Romney_tweets.loc[df_Romney_tweets['Class']==1]['Tweets']\n",
    "positive_Obama=df_Obama_tweets.loc[df_Obama_tweets['Class']==1]['Tweets']\n",
    "positive_raw=positive_Romney.append(positive_Obama)\n",
    "\n",
    "positive=Clean(positive_raw)\n",
    "HT_positive=sum(hashtag(positive),[])\n",
    "\n",
    "plot(HT_positive)\n",
    "\n",
    "#Negative tweets\n",
    "Negative_Romney=df_Romney_tweets.loc[df_Romney_tweets['Class']==-1]['Tweets']\n",
    "Negative_Obama=df_Obama_tweets.loc[df_Obama_tweets['Class']==1]['Tweets']\n",
    "Negative_raw=Negative_Romney.append(Negative_Obama)\n",
    "\n",
    "Negative=Clean(Negative_raw)\n",
    "HT_Negative=sum(hashtag(Negative),[])\n",
    "\n",
    "plot(HT_Negative)"
   ]
  },
  {
   "cell_type": "code",
   "execution_count": null,
   "metadata": {},
   "outputs": [],
   "source": [
    "#Decision tree\n",
    "tweet_clf=Pipeline([\n",
    "    ('count_vect',CountVectorizer(max_df=.7)),\n",
    "    ('vect_tfidf',TfidfTransformer()),\n",
    "    ('clf',DecisionTreeClassifier()),\n",
    "])\n",
    "\n",
    "\n",
    "#tuning the parameters\n",
    "parameters={\n",
    "    'count_vect__ngram_range':[(1, 1), (1, 2)],\n",
    "    'count_vect__max_df':(.6,.8,.9),\n",
    "    'vect_tfidf__use_idf':(True,False),\n",
    "    'clf__min_impurity_decrease':[(1e-05), (1e-04), (1e-03)],\n",
    "    'clf__min_samples_leaf':[0.1, 0.5, 1],\n",
    "    'clf__min_samples_split':[2, 3, 4, 5],\n",
    "    'clf__min_weight_fraction_leaf':[0.0, 0.1, 0.5],\n",
    "    'clf__presort':[False,True]\n",
    "}\n",
    "\n",
    "Parameter_Tuning(parameters,tweet_clf,Xtrain_Obama,Obama_class)"
   ]
  }
 ],
 "metadata": {
  "kernelspec": {
   "display_name": "Python 3",
   "language": "python",
   "name": "python3"
  },
  "language_info": {
   "codemirror_mode": {
    "name": "ipython",
    "version": 3
   },
   "file_extension": ".py",
   "mimetype": "text/x-python",
   "name": "python",
   "nbconvert_exporter": "python",
   "pygments_lexer": "ipython3",
   "version": "3.5.2"
  }
 },
 "nbformat": 4,
 "nbformat_minor": 2
}
