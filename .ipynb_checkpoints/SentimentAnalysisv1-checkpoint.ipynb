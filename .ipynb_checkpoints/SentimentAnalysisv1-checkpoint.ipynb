{
 "cells": [
  {
   "cell_type": "code",
   "execution_count": 85,
   "metadata": {},
   "outputs": [],
   "source": [
    "import pandas as pd\n",
    "from sklearn.utils import shuffle\n",
    "import re ,nltk\n",
    "from sklearn.naive_bayes import MultinomialNB\n",
    "from sklearn.feature_extraction.text import TfidfVectorizer\n",
    "from sklearn.model_selection import train_test_split,cross_val_score"
   ]
  },
  {
   "cell_type": "code",
   "execution_count": 104,
   "metadata": {},
   "outputs": [],
   "source": [
    "def Preprocessing(Tweets):\n",
    "    processed=[]\n",
    "    StopWords={sw for sw in nltk.corpus.stopwords.words('english')} #nltk.corpus.stopwords.words('english')\n",
    "    s={'\\'s','i\\'d','he\\'s'}\n",
    "    StopWords=StopWords|s\n",
    "    \n",
    "    pattern=re.compile(r'https?[^ ]+|@\\w+|[^a-zA-Z#\\' ]') #remove username and hyperlinks\n",
    "    for tweet in Tweets:\n",
    "        if len(tweet)==0:continue\n",
    "        tweet=re.sub(r'<.*?>','',tweet) #remove html tags\n",
    "        tweet=pattern.sub('',tweet).lower().split()\n",
    "        tweet=' '.join([w for w in tweet if not w in StopWords])\n",
    "        Root=nltk.stem.PorterStemmer()\n",
    "        RootWords=[Root.stem(w) for w in tweet.split()]\n",
    "        tweet=str(' '.join(RootWords))\n",
    "        tweet=tweet.replace(\"'\",\"\").replace(\"\\\"\",\"\").replace(\"#\",\"\")\n",
    "        processed.append(tweet)\n",
    "    return processed   "
   ]
  },
  {
   "cell_type": "code",
   "execution_count": 100,
   "metadata": {},
   "outputs": [],
   "source": [
    "df_Obama_tweets=df_Obama_tweets=pd.read_excel('trainingObamaRomneytweets.xlsx',sheet_name='Obama')\n",
    "df_Romney_tweets=pd.read_excel('trainingObamaRomneytweets.xlsx',sheet_name='Romney')\n",
    "\n",
    "# retains first 4 columns\n",
    "df_Obama_tweets=df_Obama_tweets.iloc[1:,0:4]\n",
    "df_Romney_tweets=df_Romney_tweets.iloc[1:,0:4]\n",
    "\n",
    "#rename the colums\n",
    "df_Obama_tweets.columns=['Date','Time','Tweets','Class']\n",
    "df_Romney_tweets.columns=['Date','Time','Tweets','Class']\n",
    "df_Obama_tweets.index=range(1,len(df_Obama_tweets)+1)\n",
    "df_Romney_tweets.index=range(1,len(df_Romney_tweets)+1)\n",
    "\n",
    "#drop mixed and !!! class for now(we may consider it later)\n",
    "df_Romney_tweets=df_Romney_tweets[(df_Romney_tweets['Class'].isin((0,1,-1)))]\n",
    "df_Obama_tweets=df_Obama_tweets[(df_Obama_tweets['Class'].isin((0,1,-1)))]\n",
    "\n",
    "#drop empty tweet rows\n",
    "df_Obama_tweets.dropna(subset=['Tweets'],inplace=True)\n",
    "df_Romney_tweets.dropna(subset=['Tweets'],inplace=True)\n",
    "\n",
    "#shuffle the dataframe to avoid bias\n",
    "df_Obama_tweets=shuffle(df_Obama_tweets).reset_index(drop=True)\n",
    "df_Romney_tweets=shuffle(df_Romney_tweets).reset_index(drop=True)\n",
    "\n",
    "#raw tweet and class\n",
    "Obama_tweet=df_Obama_tweets['Tweets'].tolist()\n",
    "Obama_class=df_Obama_tweets['Class'].tolist()\n",
    "\n",
    "Romney_tweet=df_Romney_tweets['Tweets'].tolist()\n",
    "Romney_class=df_Romney_tweets['Class'].tolist()"
   ]
  },
  {
   "cell_type": "code",
   "execution_count": 103,
   "metadata": {},
   "outputs": [
    {
     "data": {
      "text/plain": [
       "0.5817135085131088"
      ]
     },
     "execution_count": 103,
     "metadata": {},
     "output_type": "execute_result"
    }
   ],
   "source": [
    "# preprocess the tweets\n",
    "Xtrain_Obama=Preprocessing(Obama_tweet)\n",
    "Xtrain_Romney=Preprocessing(Romney_tweet)\n",
    "\n",
    "#Vectorize the tweet \n",
    "vect=TfidfVectorizer()\n",
    "Xtrain_tfidf=vect.fit_transform(Xtrain_Obama)\n",
    "\n",
    "#initialize the classifiers\n",
    "clf=MultinomialNB()\n",
    "\n",
    "#score on training data\n",
    "cross_val_score(clf,Xtrain_tfidf,Obama_class,cv=10).mean()\n"
   ]
  }
 ],
 "metadata": {
  "kernelspec": {
   "display_name": "Python 3",
   "language": "python",
   "name": "python3"
  },
  "language_info": {
   "codemirror_mode": {
    "name": "ipython",
    "version": 3
   },
   "file_extension": ".py",
   "mimetype": "text/x-python",
   "name": "python",
   "nbconvert_exporter": "python",
   "pygments_lexer": "ipython3",
   "version": "3.6.7"
  }
 },
 "nbformat": 4,
 "nbformat_minor": 2
}
